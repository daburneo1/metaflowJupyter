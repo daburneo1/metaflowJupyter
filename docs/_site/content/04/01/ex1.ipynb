{
 "cells": [
  {
   "cell_type": "markdown",
   "metadata": {},
   "source": [
    "## Jugadores del Mundial 2014 filtrados por pais\n",
    "En este ejemplo se cargara un archivo CSV de metadatos de todos los jugadores del mundial FIFA 2014, los cuales constan de informacion como nombres, pais, fecha de nacimiento, goles marcados en dicho mundial, etc. \n",
    "\n",
    "El codigo basado en Metaflow se encargara de filtrar los datos del csv para presentar un numero determinado de jugadores del pais que el usuario escoja."
   ]
  },
  {
   "cell_type": "markdown",
   "metadata": {},
   "source": [
    "   ### Ejecucion"
   ]
  },
  {
   "cell_type": "code",
   "execution_count": 1,
   "metadata": {},
   "outputs": [],
   "source": [
    "from metaflow import FlowSpec, step, IncludeFile, Parameter"
   ]
  },
  {
   "cell_type": "markdown",
   "metadata": {},
   "source": [
    "Se procede a importar los modulos a utilizar desde <b>Metaflow</b>"
   ]
  },
  {
   "cell_type": "code",
   "execution_count": 2,
   "metadata": {},
   "outputs": [],
   "source": [
    "def script_path(filename):\n",
    "    import os\n",
    "\n",
    "    current_folder = globals()['_dh'][0]\n",
    "    filepath = os.path.join(current_folder,'mundial.csv')\n",
    "    return os.path.join(filepath, filename)"
   ]
  },
  {
   "cell_type": "markdown",
   "metadata": {},
   "source": [
    "Se implementa la funcion `os.path.join`, conveniente para obtener la ruta del directorio de una manera mas facil. Esto permite utilizar el tutorial desde cualquier directorio "
   ]
  },
  {
   "cell_type": "code",
   "execution_count": 3,
   "metadata": {},
   "outputs": [],
   "source": [
    "class PlayerListFlow(FlowSpec):\n",
    "\n",
    "    player_data = IncludeFile(\"player_file\",\n",
    "                               help=\"El archivo de los jugadores del mundial\",\n",
    "                               default=script_path(\"mundial.csv\"))"
   ]
  },
  {
   "cell_type": "markdown",
   "metadata": {},
   "source": [
    "De manera similar a los <b>Parametros</b>, se puede definir un archivo de datos para incluirlo como entrada. Metaflow versiona el archivo y lo hara accesible a todos los pasos directamente a traves del objeto `self`"
   ]
  },
  {
   "cell_type": "code",
   "execution_count": 4,
   "metadata": {},
   "outputs": [],
   "source": [
    "    country = Parameter('country',\n",
    "                      help=\"Filtrar los jugadores segun el pais\",\n",
    "                      default='Mexico') # Se toma por valor de defecto Mexico, aunque el usuario puede asignar el pais deseado desde consola\n",
    "\n",
    "    recommendations = Parameter('recommendations',\n",
    "                                help=\"El numero de jugadores a retornar\",\n",
    "                                default=20) # El valor por defecto es el retorno de 20 jugadores del pais seleccionado"
   ]
  },
  {
   "cell_type": "markdown",
   "metadata": {},
   "source": [
    "Los parametros se definen asignandolos a una variable global. En estos se detalla el nombre del parametro, una descripcion bajo la sintaxis `help=\"...\"`, ademas del valor por defecto, el cual puede ser el tipo de variable(int, String) o un dato en especifico(action).\n",
    "\n",
    "Cada \"step\" esta antecedido por el decorador de Python `@`"
   ]
  },
  {
   "cell_type": "code",
   "execution_count": 5,
   "metadata": {},
   "outputs": [],
   "source": [
    "    @step\n",
    "    def start(self):\n",
    "        # Se genera una lista con todos los campos que dispone el csv\n",
    "        columns = [\"Display Name\",\"Country\",\"Last Name\",\"First Name\",\"Shirt Name\",\"DOB\",\"POS\",\"Club\",\"Height\",\"Caps\",\"Goals\"]\n",
    "        # Se crea un data frame siendo un diccionario de listas\n",
    "        self.dataframe = dict((column, list())\\\n",
    "                          for column in columns)\n",
    "        \n",
    "        # Se obtiene la informacion del csv, separandolas por un salto de linea\n",
    "        lines = self.player_data.split('\\n')\n",
    "        # Titulos de cada columna, separandose por el |\n",
    "        header = lines[0].split('|')\n",
    "        \n",
    "        idx = {column: header.index(column) for column in columns}\n",
    "        \n",
    "        # Se empieza a llenar la informacion al data frame desde lines\n",
    "        for line in lines[1:]:\n",
    "            if not line:\n",
    "                continue\n",
    "\n",
    "            fields = line.rsplit('|',11)\n",
    "\n",
    "            for column in columns:\n",
    "                self.dataframe[column].append(fields[idx[column]])\n",
    "                \n",
    "        # Ejecutar en paralelo los steps bonus_player y country_players\n",
    "        self.next(self.bonus_player, self.country_players)\n",
    "\n"
   ]
  },
  {
   "cell_type": "markdown",
   "metadata": {},
   "source": [
    "En step <b>start</b> se comienza por analizar el CSV y a este extraer la informacion necesaria y almacenarla en un diccionario de Python.\n",
    "\n",
    "En el metodo `self.next` se ejecutan pasos paralelos a travez de ramas. El beneficio de esto es mejorar el rendimiento de ejecucion. Metaflow puede ejecutar su codigo en paralelo aprovechando los distintos nucleos que posee el procesador del computador. Se permite cualquier cantidad de pasos paralelos."
   ]
  },
  {
   "cell_type": "code",
   "execution_count": 7,
   "metadata": {},
   "outputs": [],
   "source": [
    "    @step\n",
    "    def bonus_player(self):\n",
    "\n",
    "        from random import choice # Funcion del modulo aleatorio de python\n",
    "        \n",
    "        # Se crea un diccionario con los campos que requerimos y se carga la informacion verificando que no pertenezcan al pais asignado, ya que es un dato adicional\n",
    "        players = [(LastName, FirstName, Country, Goals)\\\n",
    "                    for LastName, FirstName, Country, Goals \\\n",
    "                    in zip(self.dataframe['Last Name'],\n",
    "                           self.dataframe['First Name'],\n",
    "                           self.dataframe['Country'],\n",
    "                           self.dataframe['Goals'])\\\n",
    "                    if self.country.lower() not in Country.lower()]\n",
    "\n",
    "        self.bonus = choice(players) # Se selecciona aleatoriamente uno del diccionario\n",
    "        self.next(self.join) # Apunta al siguiente paso"
   ]
  },
  {
   "cell_type": "markdown",
   "metadata": {},
   "source": [
    "El step <b>bonus_player</b> selecciona aleatoriamente un jugador que pertenezca a un pais distinto del especificado para luego añadirlo al resultado final.\n",
    "\n",
    "Luego de esto apunta al siguiente paso que es el step <b>join</b>"
   ]
  },
  {
   "cell_type": "code",
   "execution_count": 8,
   "metadata": {},
   "outputs": [],
   "source": [
    "    @step\n",
    "    def country_players(self):\n",
    "\n",
    "        from random import shuffle # Funcion del modulo aleatorio de python\n",
    "        \n",
    "        # Se crea un diccionario con los campos que requerimos, luego se carga la informacion verificando que pertenezcan al pais asignado\n",
    "        self.players = [(LastName, FirstName, Country, Goals)\\\n",
    "                    for LastName, FirstName, Country, Goals \\\n",
    "                    in zip(self.dataframe['Last Name'],\n",
    "                           self.dataframe['First Name'],\n",
    "                           self.dataframe['Country'],\n",
    "                           self.dataframe['Goals'])\\\n",
    "                    if self.country.lower() in Country.lower()]\n",
    "\n",
    "        shuffle(self.players) # Con la duncion shuffle se aleatoriza la lista que se va a retornar\n",
    "\n",
    "        self.next(self.join) # Se apunta al siguiente paso\n"
   ]
  },
  {
   "cell_type": "markdown",
   "metadata": {},
   "source": [
    "El step <b>country_players</b> selecciona los jugadores del dataframe que coincidan con el pais asignado\n",
    "\n",
    "Al final aleatoriza los jugadores de la lista para que de esta forma se encuentren listo, al igual que bonus para ser llamadas por el step <b>join</b>"
   ]
  },
  {
   "cell_type": "code",
   "execution_count": 9,
   "metadata": {},
   "outputs": [],
   "source": [
    "    @step\n",
    "    def join(self, inputs):\n",
    "\n",
    "        # Reasignar las listas de peliculas a sus respectivas variables\n",
    "        self.playlist = inputs.genre_movies.movies\n",
    "        self.bonus = inputs.bonus_movie.bonus\n",
    "\n",
    "        self.next(self.end)#Apunta al paso final\n"
   ]
  },
  {
   "cell_type": "markdown",
   "metadata": {},
   "source": [
    "En el step <b>join</b> se une la informacion obtenida en paralelo y se la reasigna a las variables correspondientes para ser invocadas en el paso final"
   ]
  },
  {
   "cell_type": "code",
   "execution_count": 10,
   "metadata": {},
   "outputs": [],
   "source": [
    "    @step\n",
    "    def end(self):\n",
    "        \n",
    "        print(\"Playlist for movies in genre '%s'\" % self.genre)\n",
    "        for pick, movie in enumerate(self.playlist, start=1):\n",
    "            print(\"Pick %d: '%s'\" % (pick, movie))\n",
    "            if pick >= self.recommendations:\n",
    "                break\n",
    "\n",
    "        print(\"Bonus Pick: '%s' from '%s'\" % (self.bonus[0], self.bonus[1]))\n"
   ]
  },
  {
   "cell_type": "markdown",
   "metadata": {},
   "source": [
    "Imprimir la lista de peliculas segun el numero requerido y el genero proporcionado. En el presente ejemplo se presentan 20 jugadores pertenecientes a Mexico. Estos datos estan como por defecto"
   ]
  },
  {
   "cell_type": "markdown",
   "metadata": {},
   "source": [
    "`if __name__ == '__main__'`:<br>\n",
    "    `    PlayListFlow()`"
   ]
  },
  {
   "cell_type": "markdown",
   "metadata": {},
   "source": [
    "Sentencia para empezar la ejecucion del programa"
   ]
  },
  {
   "cell_type": "markdown",
   "metadata": {},
   "source": [
    "### Si todos los pasos se ejecutaron correctamente, tendriamos una salida similar a la siguiente:"
   ]
  },
  {
   "cell_type": "markdown",
   "metadata": {},
   "source": [
    "<img src=\"jugadores1.png\">"
   ]
  },
  {
   "cell_type": "markdown",
   "metadata": {},
   "source": [
    "\n",
    "\n",
    "[Descargar CSV](https://drive.google.com/uc?id=12cTxo-XHeipnLuryAzjtrYIuwzJaulbn&export=download&authuser=0)\n",
    "<br/>\n",
    "\n",
    "[Descargar archivo .py](https://drive.google.com/uc?id=16Z8MBc-yBSPGSMOO9LtKSSj05Q040qb0&export=download&authuser=0)\n",
    "\n",
    "\n"
   ]
  },
  {
   "cell_type": "code",
   "execution_count": null,
   "metadata": {},
   "outputs": [],
   "source": []
  }
 ],
 "metadata": {
  "kernelspec": {
   "display_name": "Python 3",
   "language": "python",
   "name": "python3"
  },
  "language_info": {
   "codemirror_mode": {
    "name": "ipython",
    "version": 3
   },
   "file_extension": ".py",
   "mimetype": "text/x-python",
   "name": "python",
   "nbconvert_exporter": "python",
   "pygments_lexer": "ipython3",
   "version": "3.6.7"
  },
  "widgets": {
   "application/vnd.jupyter.widget-state+json": {
    "state": {},
    "version_major": 2,
    "version_minor": 0
   }
  }
 },
 "nbformat": 4,
 "nbformat_minor": 4
}
