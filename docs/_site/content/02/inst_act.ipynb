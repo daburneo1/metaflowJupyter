{
 "cells": [
  {
   "cell_type": "markdown",
   "metadata": {},
   "source": [
    "## Características\n",
    "\n",
    "El presente libro es una breve demostración del diseño y estilo general de los libros de texto creados con Jupyter y Jekyll. Su contenido se genera a partir de HTML y su anatomìa esta basado en la carpeta _data.\n",
    "\n",
    "El contenido del libro esta almacenado en la carpeta _content. Tiene una combinación de Markdown y Jupyter."
   ]
  },
  {
   "cell_type": "markdown",
   "metadata": {},
   "source": [
    "Para comenzar puede hacer click en una de las secciones de la barra lateral izquierda. La primera es una explicación breve de que es Metaflow. Las siguientes opciones detallan la instalación y actualización de la herramienta."
   ]
  }
 ],
 "metadata": {
  "kernelspec": {
   "display_name": "Python 3",
   "language": "python",
   "name": "python3"
  },
  "language_info": {
   "codemirror_mode": {
    "name": "ipython",
    "version": 3
   },
   "file_extension": ".py",
   "mimetype": "text/x-python",
   "name": "python",
   "nbconvert_exporter": "python",
   "pygments_lexer": "ipython3",
   "version": "3.6.7"
  },
  "widgets": {
   "application/vnd.jupyter.widget-state+json": {
    "state": {},
    "version_major": 2,
    "version_minor": 0
   }
  }
 },
 "nbformat": 4,
 "nbformat_minor": 4
}
