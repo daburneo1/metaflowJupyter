{
 "cells": [
  {
   "cell_type": "markdown",
   "metadata": {},
   "source": [
    "# Ejemplo 2\n",
    "Es este ejemplo se visualiza la carga de un CSV mediante un paquete externo como lo es Pandas y el trabajo en paralelo de Metaflow mediante el uso de <b>foreach</b>"
   ]
  },
  {
   "cell_type": "markdown",
   "metadata": {},
   "source": [
    "## Estadisticas\n",
    "En este ejemplo se cargara un archivo CSV de metadatos de peliculas\n",
    "mediante Pandas y se procede a calcular algunas estadisticas especificas del genero de pelicula. "
   ]
  },
  {
   "cell_type": "markdown",
   "metadata": {},
   "source": [
    "   ### Ejecucion"
   ]
  },
  {
   "cell_type": "code",
   "execution_count": 2,
   "metadata": {},
   "outputs": [],
   "source": [
    "from metaflow import FlowSpec, step, IncludeFile"
   ]
  },
  {
   "cell_type": "markdown",
   "metadata": {},
   "source": [
    "Se procede a importar los modulos a utilizar desde <b>Metaflow</b>"
   ]
  },
  {
   "cell_type": "code",
   "execution_count": 3,
   "metadata": {},
   "outputs": [],
   "source": [
    "def script_path(filename):\n",
    "    import os\n",
    "\n",
    "    current_folder = globals()['_dh'][0]\n",
    "    filepath = os.path.join(current_folder,'movies.csv')\n",
    "    return os.path.join(filepath, filename)"
   ]
  },
  {
   "cell_type": "markdown",
   "metadata": {},
   "source": [
    "Se implementa la funcion `os.path.join`, conveniente para obtener la ruta del directorio de una manera mas facil. Esto permite utilizar el tutorial desde cualquier directorio "
   ]
  },
  {
   "cell_type": "code",
   "execution_count": 4,
   "metadata": {},
   "outputs": [],
   "source": [
    "class MovieStatsFlow(FlowSpec):\n",
    "\n",
    "    movie_data = IncludeFile(\"movie_data\",\n",
    "                             help=\"The path to a movie metadata file.\",\n",
    "                             default=script_path('movies.csv'))\n"
   ]
  },
  {
   "cell_type": "markdown",
   "metadata": {},
   "source": [
    "De manera similar a los <b>Parametros</b>, se puede definir un archivo de datos para incluirlo como entrada. Metaflow versiona el archivo y lo hara accesible a todos los pasos directamente a traves del objeto `self`"
   ]
  },
  {
   "cell_type": "code",
   "execution_count": 5,
   "metadata": {},
   "outputs": [],
   "source": [
    "    @step\n",
    "    def start(self):\n",
    "\n",
    "        import pandas\n",
    "        from io import StringIO\n",
    "\n",
    "        # Cargar la data mediante pandas\n",
    "        self.dataframe = pandas.read_csv(StringIO(self.movie_data)) #StringIo permite leer cadenas como archivos\n",
    "\n",
    "        # La columna 'genres' tiene una lista de generos para cada pelicula\n",
    "        self.genres = {genre for genres \\\n",
    "                       in self.dataframe['genres'] \\\n",
    "                       for genre in genres.split('|')} # Compresion de diccionarios\n",
    "        self.genres = list(self.genres) #Convierte el diccionario en lista\n",
    "\n",
    "        # Se quiere calcular algunas estadiscitas para cada genero.\n",
    "        # El argumento 'foreach' permite hacer los calculos en paralelo\n",
    "        self.next(self.compute_statistics, foreach='genres')\n"
   ]
  },
  {
   "cell_type": "markdown",
   "metadata": {},
   "source": [
    "En el step <b>start</b> se comienza por analizar el CSV y a este extraer la informacion necesaria y almacenarla en un diccionario de Python. La lectura del CSV se realiza mediante la herramienta Pandas\n",
    "\n",
    "En el metodo `self.next` se ejecutan pasos paralelos a travez de ramas. La palabra clave <b>foreach</b>"
   ]
  },
  {
   "cell_type": "code",
   "execution_count": 6,
   "metadata": {},
   "outputs": [],
   "source": [
    "    @step\n",
    "    def compute_statistics(self):\n",
    "        # Encontrar todas las \n",
    "        self.genre = self.input\n",
    "        print(\"Computing statistics for %s\" % self.genre)\n",
    "\n",
    "        # Seleccionar todas las peliculas que pertenezcan al genero especificado.\n",
    "        # Crear un marcoo de datos con estas peliculas, y solo con las columnas necesarias\n",
    "        selector = self.dataframe['genres'].\\\n",
    "                   apply(lambda row: self.genre in row) # Funcion anonima para recorrer cada elemento de la lista genres\n",
    "        self.dataframe = self.dataframe[selector]\n",
    "\n",
    "        self.dataframe = self.dataframe[['movie_title', 'genres', 'gross']]\n",
    "\n",
    "        # Obtener estadisticas sobre la taquilla de estos titulos (gross)\n",
    "        points = [.25, .5, .75]\n",
    "        self.quartiles = self.dataframe['gross'].quantile(points).values\n",
    "\n",
    "        # Unir a los resultados de otros generos\n",
    "        self.next(self.join)"
   ]
  },
  {
   "cell_type": "markdown",
   "metadata": {},
   "source": [
    "El step <b>compute_statics</b> se ejecuta de manera paralela en funcion de <b>foreach</b>. Obtiene las peliculas que sean del genero especificado.\n",
    "<br>\n",
    "Luego se obtienen las estadisticas de la taquilla de los titulos que estan en el dataframe.\n",
    "\n",
    "En el metodo `self.next` se unen los resultados de los otros generos despues de que la ejecucion en paralelo del <b>compute_statics</b> termine\n"
   ]
  },
  {
   "cell_type": "code",
   "execution_count": 7,
   "metadata": {},
   "outputs": [],
   "source": [
    "    @step\n",
    "    def join(self, inputs):\n",
    "        # Merge results from the genre specific computations.\n",
    "        self.genre_stats = {inp.genre.lower(): \\\n",
    "                            {'quartiles': inp.quartiles,\n",
    "                             'dataframe': inp.dataframe} \\\n",
    "                            for inp in inputs}\n",
    "\n",
    "        self.next(self.end)\n"
   ]
  },
  {
   "cell_type": "markdown",
   "metadata": {},
   "source": [
    "El step <b>join</b> une los resultados de las ramas paralelas combinandolos en un diccionario. Estos datos seran utilizados en el siguiente ejemplo como informacion base para generar una lista mejorada de peliculas recomendadas.\n",
    "\n",
    "Al ultimo apunta al paso final del programa"
   ]
  },
  {
   "cell_type": "code",
   "execution_count": 8,
   "metadata": {},
   "outputs": [],
   "source": [
    "    @step\n",
    "    def end(self):\n",
    "        \"\"\"\n",
    "        End the flow.\n",
    "\n",
    "        \"\"\"\n",
    "        pass"
   ]
  },
  {
   "cell_type": "markdown",
   "metadata": {},
   "source": [
    "En el step <b>end</b> en general no realiza ninguna accion, pues el presente codigo es previo a la ejecucion del siguiente ejemplo, dejando listos los datos a utilizarse"
   ]
  },
  {
   "cell_type": "markdown",
   "metadata": {},
   "source": [
    "`if __name__ == '__main__'`:<br>\n",
    "    `    MovieStatsFlow()`"
   ]
  },
  {
   "cell_type": "markdown",
   "metadata": {},
   "source": [
    "Sentencia para empezar la ejecucion del programa"
   ]
  },
  {
   "cell_type": "markdown",
   "metadata": {},
   "source": [
    "### Si todos los pasos se ejecutaron correctamente, tendriamos una salida similar a la siguiente:"
   ]
  },
  {
   "cell_type": "markdown",
   "metadata": {},
   "source": [
    "<img src=\"resultado2.png\">"
   ]
  },
  {
   "cell_type": "markdown",
   "metadata": {},
   "source": [
    "En la imagen anterior se puede visualizar la correcta ejecucion del programa, como tambien el uso de los cuatro nucleos del computador empleado, como evidencia del trabajo en paralelo de Metaflow"
   ]
  },
  {
   "cell_type": "markdown",
   "metadata": {},
   "source": [
    "\n",
    "\n",
    "[Descargar CSV](https://drive.google.com/uc?id=19-sUqw-qAtF82Ki7eDYmN5YUyhirb0Sz&export=download&authuser=0)\n",
    "<br/>\n",
    "[Descargar archivo .py](https://drive.google.com/uc?id=1eotKzZsH8Yv9oaS399461YkWj9VbvrG2&export=download&authuser=0)\n"
   ]
  }
 ],
 "metadata": {
  "kernelspec": {
   "display_name": "Python 3",
   "language": "python",
   "name": "python3"
  },
  "language_info": {
   "codemirror_mode": {
    "name": "ipython",
    "version": 3
   },
   "file_extension": ".py",
   "mimetype": "text/x-python",
   "name": "python",
   "nbconvert_exporter": "python",
   "pygments_lexer": "ipython3",
   "version": "3.6.7"
  },
  "widgets": {
   "application/vnd.jupyter.widget-state+json": {
    "state": {},
    "version_major": 2,
    "version_minor": 0
   }
  }
 },
 "nbformat": 4,
 "nbformat_minor": 4
}
