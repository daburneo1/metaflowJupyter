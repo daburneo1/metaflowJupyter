{
 "cells": [
  {
   "cell_type": "markdown",
   "metadata": {},
   "source": [
    "## Que es Metaflow\n",
    "\n",
    "Metaflow es una biblioteca de Python amigable para sus usuarios, que ayuda a los cientificos e ingenieros a construir y administrar proyectos de ciencia de datos de la vida real. Metaflow se desarrolló originalmente en Netflix para aumentar la productividad de los científicos de datos que trabajan en una amplia variedad de proyectos, desde estadísticas clásicas hasta aprendizaje avanzado de vanguardia"
   ]
  },
  {
   "cell_type": "markdown",
   "metadata": {},
   "source": [
    "Metaflow proporciona una API unificada a la pila de infraestructura que se requiere para ejecutar proyectos de ciencia de datos, desde el prototipo hasta la producción."
   ]
  },
  {
   "cell_type": "markdown",
   "metadata": {},
   "source": [
    "### Filosofía del metaflujo\n",
    "\n",
    "Metaflow fue originalmente diseñado y construido para abordar los puntos prácticos del científico de datos en Netflix. Su filosofía de diseño está influenciada por [la cultura unica de Netflix](https://jobs.netflix.com/culture). Los siguientes principios resumen la filosofia de Metaflow. (NOTA. Si el lector desea leer a detalle cada uno de los siguientes items, se le invita entrar en el siguente [enlace](https://docs.metaflow.org/introduction/what-is-metaflow))\n",
    "<ol>\n",
    "    <li>Basado en casos de uso comunes de ML orientado a negocios de la vida real</li>\n",
    "    <li>Administrar entropia con codigo</li>\n",
    "    <li>Enfoque fanático en la usabilidad y ergonomia</li>\n",
    "    <li>Habilitar colaboración</li>\n",
    "    <li>Soporte de primera clase para prototipos y producción </li>\n",
    "    <li>Escalabilidad directa </li>\n",
    "    <li>Enfoque pragmático del acceso y procesamiento de datos</li>\n",
    "    <li>Las fallas son una característica</li>\n",
    "</ol>"
   ]
  },
  {
   "cell_type": "markdown",
   "metadata": {},
   "source": [
    "### Conclusión\n",
    "No espere que la versión actual de Metaflow sea una manifestación perfecta de estos principios. Metaflow se esta desarrollando activamente. Sin embargo, gran parte de la base existe, y ha demostrado ser exitosa en Netflix. Si esta visión concuerda contigo, se le invita unirse al proyecto. Un buen próximo paso es revisar los [tutoriales](https://docs.metaflow.org/getting-started/tutorials)"
   ]
  }
 ],
 "metadata": {
  "kernelspec": {
   "display_name": "Python 3",
   "language": "python",
   "name": "python3"
  },
  "language_info": {
   "codemirror_mode": {
    "name": "ipython",
    "version": 3
   },
   "file_extension": ".py",
   "mimetype": "text/x-python",
   "name": "python",
   "nbconvert_exporter": "python",
   "pygments_lexer": "ipython3",
   "version": "3.6.7"
  },
  "widgets": {
   "application/vnd.jupyter.widget-state+json": {
    "state": {},
    "version_major": 2,
    "version_minor": 0
   }
  }
 },
 "nbformat": 4,
 "nbformat_minor": 4
}
