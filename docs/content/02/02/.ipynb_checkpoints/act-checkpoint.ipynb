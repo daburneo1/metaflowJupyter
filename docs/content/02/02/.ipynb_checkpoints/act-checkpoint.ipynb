{
 "cells": [
  {
   "cell_type": "markdown",
   "metadata": {},
   "source": [
    "## Actualización de Metaflow\n",
    "\n",
    "*Las instrucciones empleadas en el presente tutorial estan basadas en la pagina oficial de [Metaflow](https://metaflow.org/) \n"
   ]
  },
  {
   "cell_type": "markdown",
   "metadata": {},
   "source": [
    "Si ha instalado Metaflow anteriormente, puede actualizar a la ultima version con:\n",
    "✨`pip3 install --upgrade metaflow`"
   ]
  },
  {
   "cell_type": "markdown",
   "metadata": {},
   "source": [
    "### Librerias adicionales\n",
    "Es probable que tenga que instalar librerias adicionales para sacarle el máximo partido a Metaflow, sin mencionar que algunos ejercicios de los tutoriales de la página oficial las requieren. Aquí se deja el código para la instalación de algunas de ellas:"
   ]
  },
  {
   "cell_type": "markdown",
   "metadata": {},
   "source": [
    "✨`pip3 install pandas`\n",
    "\n",
    "✨`pip3 install matplotlib`"
   ]
  },
  {
   "cell_type": "markdown",
   "metadata": {},
   "source": [
    "### Anaconda\n",
    "Algunos de los ejercicios citados en los tutoriales requieren del administrador de paquetes <strong> conda </strong>, para lo cual se detallan los pasos necesarios para su instalacion"
   ]
  },
  {
   "cell_type": "markdown",
   "metadata": {},
   "source": [
    "✨ `cd /tmp`\n",
    "\n",
    "✨ `curl -O https://repo.anaconda.com/archive/Anaconda3-5.2.0-Linux-x86_64.sh`\n",
    "\n",
    "✨ `sha256sum Anaconda3-5.2.0-Linux-x86_64.sh`\n",
    "\n",
    "✨ `bash Anaconda3-5.2.0-Linux-x86_64.sh`"
   ]
  },
  {
   "cell_type": "markdown",
   "metadata": {},
   "source": [
    "Es posible que los pasos para instalar Anaconda no funcionen igual en todos los lectores, por lo que se invita a visualizar mas detalladamente los pasos en este [enlace](https://www.hostinger.es/tutoriales/instalar-anaconda-python-en-ubuntu/)"
   ]
  }
 ],
 "metadata": {
  "kernelspec": {
   "display_name": "Python 3",
   "language": "python",
   "name": "python3"
  },
  "language_info": {
   "codemirror_mode": {
    "name": "ipython",
    "version": 3
   },
   "file_extension": ".py",
   "mimetype": "text/x-python",
   "name": "python",
   "nbconvert_exporter": "python",
   "pygments_lexer": "ipython3",
   "version": "3.6.7"
  },
  "widgets": {
   "application/vnd.jupyter.widget-state+json": {
    "state": {},
    "version_major": 2,
    "version_minor": 0
   }
  }
 },
 "nbformat": 4,
 "nbformat_minor": 4
}
