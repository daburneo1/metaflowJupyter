{
 "cells": [
  {
   "cell_type": "markdown",
   "metadata": {},
   "source": [
    "## Proceso de instalación de la libreria Metaflow\n",
    "\n",
    "*Las instrucciones empleadas en el presente tutorial estan basadas en la pagina oficial de [Metaflow](https://metaflow.org/) \n",
    "\n",
    "Metaflow está disponible como un paquete de Python para MacOS y Linux."
   ]
  },
  {
   "cell_type": "markdown",
   "metadata": {},
   "source": [
    "✨Se puede empezar por un `sudo apt-get update` para actualizar todos los repositorios"
   ]
  },
  {
   "cell_type": "markdown",
   "metadata": {},
   "source": [
    "### Configurando el entorno\n",
    "* Libreria de Python\n",
    "  \n",
    "  Metaflow al ser una libreria que trabaja con Python, se necesita como requisito tener instalado una versión de Python."
   ]
  },
  {
   "cell_type": "markdown",
   "metadata": {},
   "source": [
    "✨`sudo apt-get install python 3.6`\n",
    "✨`sudo apt-get install python-pip`"
   ]
  },
  {
   "cell_type": "markdown",
   "metadata": {},
   "source": [
    "Se recomienda utilizar Python 3 para nuevos proyectos. METAFLOW soporta Python 2.7 para aplicaciones heredadas, pero Python 3 tiene menos errores y cuenta con mejor soporte"
   ]
  },
  {
   "cell_type": "markdown",
   "metadata": {},
   "source": [
    "### Instalando Metaflow"
   ]
  },
  {
   "cell_type": "markdown",
   "metadata": {},
   "source": [
    "Para ejecutar la instalación de Metaflow, debe ingresar el siguiente comando en una consola"
   ]
  },
  {
   "cell_type": "markdown",
   "metadata": {},
   "source": [
    "✨`pip3 install metaflow`"
   ]
  },
  {
   "cell_type": "markdown",
   "metadata": {},
   "source": [
    "Luego de este paso, metaflow se encuentra instalado en la computadora y listo para usarse"
   ]
  },
  {
   "cell_type": "markdown",
   "metadata": {},
   "source": [
    "NOTA. Puede que en el futuro deba instalar librerias adicionales (pandas, bokeh), ya que trabajan conjuntamente con metaflow"
   ]
  }
 ],
 "metadata": {
  "kernelspec": {
   "display_name": "Python 3",
   "language": "python",
   "name": "python3"
  },
  "language_info": {
   "codemirror_mode": {
    "name": "ipython",
    "version": 3
   },
   "file_extension": ".py",
   "mimetype": "text/x-python",
   "name": "python",
   "nbconvert_exporter": "python",
   "pygments_lexer": "ipython3",
   "version": "3.6.7"
  },
  "widgets": {
   "application/vnd.jupyter.widget-state+json": {
    "state": {},
    "version_major": 2,
    "version_minor": 0
   }
  }
 },
 "nbformat": 4,
 "nbformat_minor": 4
}
