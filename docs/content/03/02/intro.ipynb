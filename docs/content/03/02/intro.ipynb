{
 "cells": [
  {
   "cell_type": "markdown",
   "metadata": {},
   "source": [
    "# Metaflow\n",
    "\n",
    "<a href=\"https://metaflow.org/\"><img src=\"https://blog.desdelinux.net/wp-content/uploads/2019/12/Metaflow.png\" class=\"left\"></a>\n",
    "<div style=\"clear:both;\"></div>\n",
    "\n",
    "[Metaflow](https://blog.desdelinux.net/metaflow-el-framework-de-netflix-para-los-proyectos-de-aprendizaje-automatico/) es un framework de Netflix escrito en Python, diseñado para facilitar la ejecución de proyectos de aprendizaje automatico; destinada a ayudar a los especialistas en datos a implementar modelos de aprendizaje automático más rapidamente para la producción.\n",
    "\n",
    "Netflix ha empleado este framework internamente para crear y administrar cientos de proyectos de ciencias de datos desde el procesamiento del lenguaje natural hasta la investigación de operaciones.\n",
    "\n",
    "\n",
    "<b>Esta diseñado para científicos de datos, no solo para maquinas</b>\n",
    "\n",
    "* <b>Modela con tus herramientas favoritas</b>\n",
    "  Use Metaflow con sus bibliotecas de ciencia de datos favoritas, como   PyTorch, Tensorflow o SciKit Learn, y escriba sus modelos en código   idiomático de Python sin mucho que aprender.\n",
    "* <b>Construir con Metaflow</b>\n",
    "  Metaflow lo ayuda a diseñar su flujo de trabajo, ejecutarlo a escala   e implementarlo en producción. Versiones y rastrea todos sus           experimentos y datos automáticamente. Le permite inspeccionar los     resultados fácilmente en los cuadernos.\n",
    "* <b>Desarrollado por la nube de AWS</b>\n",
    "  Cuando necesita más escala, Metaflow proporciona integraciones         integradas a los servicios de almacenamiento, computación y           aprendizaje automático en la nube de AWS. No se requieren cambios de   código.\n",
    "* <b>Endurecido en batalla en Netflix</b>\n",
    "  Metaflow se desarrolló originalmente en Netflix para abordar las       necesidades de sus científicos de datos que trabajan en proyectos     exigentes de ciencia de datos de la vida real. Metaflow de código     abierto de Netflix en 2019.\n",
    "\n",
    "Para proceder a la instalacion se puede regir por el [tutorial oficial](https://docs.metaflow.org/getting-started/tutorials) o basarse en las [instrucciones rapidas](01/instalacion.html) incluidas en el presente libro."
   ]
  },
  {
   "cell_type": "markdown",
   "metadata": {
    "tags": [
     "popout"
    ]
   },
   "source": [
    "✨**Note:**✨ El presente libro asi como las instrucciones empleadas estan basadas en la pagina oficial de Metaflow"
   ]
  },
  {
   "cell_type": "code",
   "execution_count": null,
   "metadata": {},
   "outputs": [],
   "source": []
  }
 ],
 "metadata": {
  "kernelspec": {
   "display_name": "Python 3",
   "language": "python",
   "name": "python3"
  },
  "language_info": {
   "codemirror_mode": {
    "name": "ipython",
    "version": 3
   },
   "file_extension": ".py",
   "mimetype": "text/x-python",
   "name": "python",
   "nbconvert_exporter": "python",
   "pygments_lexer": "ipython3",
   "version": "3.6.7"
  },
  "widgets": {
   "application/vnd.jupyter.widget-state+json": {
    "state": {},
    "version_major": 2,
    "version_minor": 0
   }
  }
 },
 "nbformat": 4,
 "nbformat_minor": 4
}
