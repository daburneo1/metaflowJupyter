{
 "cells": [
  {
   "cell_type": "markdown",
   "metadata": {},
   "source": [
    "# Ejemplo 3"
   ]
  },
  {
   "cell_type": "markdown",
   "metadata": {},
   "source": [
    "## Lista de reproduccion mejorada\n",
    "En este ejemplo se utiliza Metaflow para cargar las estadisticas generadas en el ejemplo anterior y mejorar el generador de listas de reproduccion sobre las peliculas más taquilleras"
   ]
  },
  {
   "cell_type": "markdown",
   "metadata": {},
   "source": [
    "   ### Ejecucion"
   ]
  },
  {
   "cell_type": "code",
   "execution_count": 1,
   "metadata": {},
   "outputs": [],
   "source": [
    "from metaflow import FlowSpec, step, Parameter"
   ]
  },
  {
   "cell_type": "markdown",
   "metadata": {},
   "source": [
    "Se procede a importar los modulos a utilizar desde <b>Metaflow</b>"
   ]
  },
  {
   "cell_type": "code",
   "execution_count": 2,
   "metadata": {},
   "outputs": [],
   "source": [
    "class PlayListFlow(FlowSpec): # Herencia de FlowSpec\n",
    "\n",
    "    genre = Parameter('genre',\n",
    "                      help=\"Filter movies for a particular genre.\",\n",
    "                      default='Action')\n",
    "\n",
    "    recommendations = Parameter('recommendations',\n",
    "                                help=\"The number of movies recommended for \"\n",
    "                                \"the playlist.\",\n",
    "                                default=5)"
   ]
  },
  {
   "cell_type": "markdown",
   "metadata": {},
   "source": [
    "Los parametros se definen asignandolos a una variable global. En estos se detalla el nombre del parametro, una descripcion bajo la sintaxis `help=\"...\"`, ademas del valor por defecto, el cual puede ser el tipo de variable(int, String) o un dato en especifico(action).\n",
    "\n",
    "Cada \"step\" esta antecedido por el decorador de Python `@`"
   ]
  },
  {
   "cell_type": "code",
   "execution_count": 3,
   "metadata": {},
   "outputs": [],
   "source": [
    "    @step\n",
    "    def start(self):\n",
    "\n",
    "        from metaflow import Flow, get_metadata\n",
    "\n",
    "        # Print metadata provider\n",
    "        print(\"Using metadata provider: %s\" % get_metadata())\n",
    "\n",
    "        # Load the analysis from the MovieStatsFlow.(Ejercicio 02 clase MovieStatsFlow)\n",
    "        run = Flow('MovieStatsFlow').latest_successful_run\n",
    "        print(\"Using analysis from '%s'\" % str(run))\n",
    "\n",
    "        self.genre_stats = run.data.genre_stats\n",
    "\n",
    "        # Compute our two recommendation types in parallel.\n",
    "        self.next(self.bonus_movie, self.genre_movies)\n"
   ]
  },
  {
   "cell_type": "markdown",
   "metadata": {},
   "source": [
    "En step <b>start</b> se comienza utilizar el \"Metaflow Client\" para recuperar la ultima ejecución exitosa de <b>MovieStatsFlow</b>\n",
    "\n",
    "En el metodo `self.next` se ejecutan pasos paralelos a travez de ramas."
   ]
  },
  {
   "cell_type": "code",
   "execution_count": 4,
   "metadata": {},
   "outputs": [],
   "source": [
    "    @step\n",
    "    def bonus_movie(self):\n",
    "       \n",
    "        import pandas\n",
    "\n",
    "        # Concatenar todos los generos de peliculas para escoger una\n",
    "        df = pandas.concat([data['dataframe'] \\\n",
    "                            for genre, data in self.genre_stats.items() \\\n",
    "                            if genre != self.genre.lower()])\n",
    "        df = df.sample(n=1) # Se utiliza el sample n=1 para que retorne solo una fila del df\n",
    "\n",
    "        self.bonus = (df['movie_title'].values[0],\n",
    "                      df['genres'].values[0])\n",
    "\n",
    "        self.next(self.join)"
   ]
  },
  {
   "cell_type": "markdown",
   "metadata": {},
   "source": [
    "El step <b>bonus_movie</b> selecciona aleatoriamente una pelicula que sea de un genero diferente para añadirla al resultado final.\n",
    "\n",
    "Esto se realiza mediante la implementacion de la libreria pandas y la funcion sample, la cual es similar al random y permite retornar una o varias filas aleatorias del <b>df</b>\n",
    "\n",
    "Luego de esto apunta al siguiente paso que es el step <b>join</b>"
   ]
  },
  {
   "cell_type": "code",
   "execution_count": 5,
   "metadata": {},
   "outputs": [],
   "source": [
    "    @step\n",
    "    def genre_movies(self):\n",
    "\n",
    "        from random import shuffle\n",
    "\n",
    "        # For the genre of interest, generate a potential playlist using only\n",
    "        # highest gross box office titles (i.e. those in the last quartile).\n",
    "        genre = self.genre.lower()\n",
    "        if genre not in self.genre_stats:\n",
    "            self.movies = []\n",
    "\n",
    "        else:\n",
    "            df = self.genre_stats[genre]['dataframe'] # se le asigna del genre_stats en la llave genre, dentro de genre la llave dataframne\n",
    "            quartiles = self.genre_stats[genre]['quartiles']\n",
    "            selector = df['gross'] >= quartiles[-1] # -1 es la ultima posicion\n",
    "            self.movies = list(df[selector]['movie_title']) # lista de los titulos de peliculas\n",
    "\n",
    "        # Shuffle the playlist.\n",
    "        shuffle(self.movies)\n",
    "\n",
    "        self.next(self.join)\n"
   ]
  },
  {
   "cell_type": "markdown",
   "metadata": {},
   "source": [
    "El step <b>genre_movies</b> selecciona las peliculas mas taquilleras del data frame y que coincidan con el genero especificado.\n",
    "\n",
    "Al final se aleatorizan las peliculas de la lista y se apunta al step\n",
    " <b>join</b>"
   ]
  },
  {
   "cell_type": "code",
   "execution_count": 6,
   "metadata": {},
   "outputs": [],
   "source": [
    "    @step\n",
    "    def join(self, inputs):\n",
    "\n",
    "        self.playlist = inputs.genre_movies.movies\n",
    "        self.bonus = inputs.bonus_movie.bonus\n",
    "\n",
    "        self.next(self.end)\n"
   ]
  },
  {
   "cell_type": "markdown",
   "metadata": {},
   "source": [
    "En el step <b>join</b> se une la informacion obtenida en paralelo y se la reasigna a las variables correspondientes para ser invocadas en el paso final"
   ]
  },
  {
   "cell_type": "code",
   "execution_count": 7,
   "metadata": {},
   "outputs": [],
   "source": [
    "    @step\n",
    "    def end(self):\n",
    "        \"\"\"\n",
    "        Print out the playlist and bonus movie.\n",
    "\n",
    "        \"\"\"\n",
    "        # Print the playlist.\n",
    "        print(\"Playlist for movies in genre '%s'\" % self.genre)\n",
    "        for pick, movie in enumerate(self.playlist, start=1):\n",
    "            print(\"Pick %d: '%s'\" % (pick, movie))\n",
    "            if pick >= self.recommendations:\n",
    "                break\n",
    "\n",
    "        print(\"Bonus Pick: '%s' from '%s'\" % (self.bonus[0], self.bonus[1]))"
   ]
  },
  {
   "cell_type": "markdown",
   "metadata": {},
   "source": [
    "Imprimir la lista de peliculas segun el numero requerido y el genero proporcionado. En el presente ejemplo se requieren 5 peliculas del genero accion"
   ]
  },
  {
   "cell_type": "markdown",
   "metadata": {},
   "source": [
    "`if __name__ == '__main__'`:<br>\n",
    "    `    PlayListFlow()`"
   ]
  },
  {
   "cell_type": "markdown",
   "metadata": {},
   "source": [
    "Sentencia para empezar la ejecucion del programa"
   ]
  },
  {
   "cell_type": "markdown",
   "metadata": {},
   "source": [
    "### Si todos los pasos se ejecutaron correctamente, tendriamos una salida similar a la siguiente:"
   ]
  },
  {
   "cell_type": "markdown",
   "metadata": {},
   "source": [
    "<img src=\"resultado3.png\">"
   ]
  },
  {
   "cell_type": "markdown",
   "metadata": {},
   "source": [
    "\n",
    "[Descargar archivo .py](https://drive.google.com/uc?id=1kn6k6k5eQB03ktS8WtZxU6rHRWFukOYL&export=download&authuser=0)\n",
    "\n"
   ]
  }
 ],
 "metadata": {
  "kernelspec": {
   "display_name": "Python 3",
   "language": "python",
   "name": "python3"
  },
  "language_info": {
   "codemirror_mode": {
    "name": "ipython",
    "version": 3
   },
   "file_extension": ".py",
   "mimetype": "text/x-python",
   "name": "python",
   "nbconvert_exporter": "python",
   "pygments_lexer": "ipython3",
   "version": "3.6.7"
  },
  "widgets": {
   "application/vnd.jupyter.widget-state+json": {
    "state": {},
    "version_major": 2,
    "version_minor": 0
   }
  }
 },
 "nbformat": 4,
 "nbformat_minor": 4
}
