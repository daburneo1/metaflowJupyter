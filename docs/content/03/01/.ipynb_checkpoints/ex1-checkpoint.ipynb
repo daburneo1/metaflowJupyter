{
 "cells": [
  {
   "cell_type": "markdown",
   "metadata": {},
   "source": [
    "# Ejemplo 1\n",
    "En este ejemplo se visualiza el funcionamiento de Metaflow, mediante\n",
    "la carga de un CSV mediante IncludeFile, Parametros basicos de Metaflow y la ejecucion de ramas de trabajo en paralelo y unir resultados"
   ]
  },
  {
   "cell_type": "markdown",
   "metadata": {},
   "source": [
    "## Lista de reproduccion\n",
    "En este ejemplo se cargara un archivo CSV de metadatos de peliculas\n",
    "y crear una lista de reproduccion para su genero de peliculas favorito"
   ]
  },
  {
   "cell_type": "markdown",
   "metadata": {},
   "source": [
    "   ### Ejecucion"
   ]
  },
  {
   "cell_type": "code",
   "execution_count": null,
   "metadata": {},
   "outputs": [],
   "source": [
    "from metaflow import FlowSpec, step, IncludeFile, Parameter"
   ]
  },
  {
   "cell_type": "markdown",
   "metadata": {},
   "source": [
    "Se procede a importar los modulos a utilizar desde <b>Metaflow</b>"
   ]
  },
  {
   "cell_type": "code",
   "execution_count": 30,
   "metadata": {},
   "outputs": [],
   "source": [
    "def script_path(filename):\n",
    "    import os\n",
    "\n",
    "    current_folder = globals()['_dh'][0]\n",
    "    filepath = os.path.join(current_folder,'movies.csv')\n",
    "    return os.path.join(filepath, filename)"
   ]
  },
  {
   "cell_type": "markdown",
   "metadata": {},
   "source": [
    "Se implementa la funcion `os.path.join`, conveniente para obtener la ruta del directorio de una manera mas facil. Esto permite utilizar el tutorial desde cualquier directorio "
   ]
  },
  {
   "cell_type": "code",
   "execution_count": 31,
   "metadata": {},
   "outputs": [],
   "source": [
    "class PlayListFlow(FlowSpec):\n",
    "\n",
    "    movie_data = IncludeFile(\"movie_data\",\n",
    "                             help=\"The path to a movie metadata file.\",\n",
    "                             default=script_path('movies.csv'))\n"
   ]
  },
  {
   "cell_type": "markdown",
   "metadata": {},
   "source": [
    "De manera similar a los <b>Parametros</b>, se puede definir un archivo de datos para incluirlo como entrada. Metaflow versiona el archivo y lo hara accesible a todos los pasos directamente a traves del objeto `self`"
   ]
  },
  {
   "cell_type": "code",
   "execution_count": 29,
   "metadata": {},
   "outputs": [],
   "source": [
    "    genre = Parameter('genre', #Nombre del parametro\n",
    "                      help=\"Filter movies for a particular genre.\", #Descripcion\n",
    "                      default='action') #Valor por defecto\n",
    "\n",
    "    recommendations = Parameter('recommendations',\n",
    "                                help=\"The number of movies to recommend in \"\n",
    "                                \"the playlist.\",\n",
    "                                default=5)#El numero de peliculas que se mostraran al final"
   ]
  },
  {
   "cell_type": "markdown",
   "metadata": {},
   "source": [
    "Los parametros se definen asignandolos a una variable global. En estos se detalla el nombre del parametro, una descripcion bajo la sintaxis `help=\"...\"`, ademas del valor por defecto, el cual puede ser el tipo de variable(int, String) o un dato en especifico(action).\n",
    "\n",
    "Cada \"step\" esta antecedido por el decorador de Python `@`"
   ]
  },
  {
   "cell_type": "code",
   "execution_count": 32,
   "metadata": {},
   "outputs": [],
   "source": [
    "    @step\n",
    "    def start(self):\n",
    "\n",
    "        # Para este ejemplo solo se necesita de los titulos y el genero.\n",
    "        columns = ['movie_title', 'genres'] #Se crea la lista\n",
    "\n",
    "        # Crear un diccionario de las listas\n",
    "        self.dataframe = dict((column, list()) \\\n",
    "                              for column in columns)\n",
    "\n",
    "\n",
    "\n",
    "        # Analizar el CSV\n",
    "        lines = self.movie_data.split('\\n') #Condicion para crear lineas separadas por cada salto de linea del CSV\n",
    "        header = lines[0].split(',') #Separar por cada coma. informacion de los titulos\n",
    "        idx = {column: header.index(column) for column in columns} \n",
    "\n",
    "        # Llenar el dataframe con cada linea seleccionada anteriormente.\n",
    "        for line in lines[1:]: #No tomar en cuenta la primera fila\n",
    "            if not line: #Si es que esta vacio\n",
    "                continue\n",
    "\n",
    "            fields = line.rsplit(',',4)       \n",
    "            for column in columns:\n",
    "                self.dataframe[column].append(fields[idx[column]]) \n",
    "\n",
    "        # Ejecutar en paralelo los metodos bonus_movie y genre_movies\n",
    "        \n",
    "        self.next(self.bonus_movie, self.genre_movies)\n"
   ]
  },
  {
   "cell_type": "markdown",
   "metadata": {},
   "source": [
    "En step <b>start</b> se comienza por analizar el CSV y a este extraer la informacion necesaria y almacenarla en un diccionario de Python.\n",
    "\n",
    "En el metodo `self.next` se ejecutan pasos paralelos a travez de ramas. El beneficio de esto es mejorar el rendimiento de ejecucion. Metaflow puede ejecutar su codigo en paralelo aprovechando los distintos nucleos que posee el procesador del computador. Se permite cualquier cantidad de pasos paralelos."
   ]
  },
  {
   "cell_type": "code",
   "execution_count": 21,
   "metadata": {},
   "outputs": [],
   "source": [
    "    @step\n",
    "    def bonus_movie(self):\n",
    "        from random import choice #Funcion del modulo aleatorio de Python\n",
    "\n",
    "        # Seleccionar todas las peliculas que no pertenecen al genero proporcionado anteriormente (action)\n",
    "        movies = [(movie, genres) \\\n",
    "                  for movie, genres \\\n",
    "                  in zip(self.dataframe['movie_title'],\n",
    "                         self.dataframe['genres']) \\\n",
    "                  if self.genre.lower() not in genres.lower()]\n",
    "\n",
    "        # Escoger una aleatoriamente.\n",
    "        self.bonus = choice(movies)\n",
    "\n",
    "        self.next(self.join)#Apunta al siguiente paso"
   ]
  },
  {
   "cell_type": "markdown",
   "metadata": {},
   "source": [
    "El step <b>bonus_movie</b> selecciona aleatoriamente una pelicula que sea de un genero diferente para añadirla al resultado final.\n",
    "\n",
    "Luego de esto apunta al siguiente paso que es el step <b>join</b>"
   ]
  },
  {
   "cell_type": "code",
   "execution_count": 33,
   "metadata": {},
   "outputs": [],
   "source": [
    "    @step\n",
    "    def genre_movies(self):\n",
    "\n",
    "        from random import shuffle\n",
    "\n",
    "        # Seleccionar todas las peliculas que pertenezcan al genero proporcionado\n",
    "        self.movies = [movie \\\n",
    "                       for movie, genres \\\n",
    "                       in zip(self.dataframe['movie_title'],\n",
    "                              self.dataframe['genres']) \\\n",
    "                       if self.genre.lower() in genres.lower()] \n",
    "\n",
    "        # Aleatorizar las peliculas de la lista.\n",
    "        shuffle(self.movies)\n",
    "\n",
    "        self.next(self.join) #Apunta al siguiente paso\n"
   ]
  },
  {
   "cell_type": "markdown",
   "metadata": {},
   "source": [
    "El step <b>genre_movies</b> selecciona las peliculas del dataframe que coincidan con el genero proporcionado.\n",
    "\n",
    "Al final aleatoriza las peliculas de la lista para que de esta forma se encuentren listas, al igual que bonus para ser llamadas por el step <b>join</b>"
   ]
  },
  {
   "cell_type": "code",
   "execution_count": 34,
   "metadata": {},
   "outputs": [],
   "source": [
    "    @step\n",
    "    def join(self, inputs):\n",
    "\n",
    "        # Reasignar las listas de peliculas a sus respectivas variables\n",
    "        self.playlist = inputs.genre_movies.movies\n",
    "        self.bonus = inputs.bonus_movie.bonus\n",
    "\n",
    "        self.next(self.end)#Apunta al paso final\n"
   ]
  },
  {
   "cell_type": "markdown",
   "metadata": {},
   "source": [
    "En el step <b>join</b> se une la informacion obtenida en paralelo y se la reasigna a las variables correspondientes para ser invocadas en el paso final"
   ]
  },
  {
   "cell_type": "code",
   "execution_count": 35,
   "metadata": {},
   "outputs": [],
   "source": [
    "    @step\n",
    "    def end(self):\n",
    "        \n",
    "        print(\"Playlist for movies in genre '%s'\" % self.genre)\n",
    "        for pick, movie in enumerate(self.playlist, start=1):\n",
    "            print(\"Pick %d: '%s'\" % (pick, movie))\n",
    "            if pick >= self.recommendations:\n",
    "                break\n",
    "\n",
    "        print(\"Bonus Pick: '%s' from '%s'\" % (self.bonus[0], self.bonus[1]))\n"
   ]
  },
  {
   "cell_type": "markdown",
   "metadata": {},
   "source": [
    "Imprimir la lista de peliculas segun el numero requerido y el genero proporcionado. En el presente ejemplo se requieren 5 peliculas del genero accion"
   ]
  },
  {
   "cell_type": "markdown",
   "metadata": {},
   "source": [
    "`if __name__ == '__main__'`:<br>\n",
    "    `    PlayListFlow()`"
   ]
  },
  {
   "cell_type": "markdown",
   "metadata": {},
   "source": [
    "Sentencia para empezar la ejecucion del programa"
   ]
  },
  {
   "cell_type": "markdown",
   "metadata": {},
   "source": [
    "### Si todos los pasos se ejecutaron correctamente, tendriamos una salida similar a la siguiente:"
   ]
  },
  {
   "cell_type": "markdown",
   "metadata": {},
   "source": [
    "<img src=\"resultado1.png\">"
   ]
  },
  {
   "cell_type": "code",
   "execution_count": 3,
   "metadata": {},
   "outputs": [
    {
     "data": {
      "text/html": [
       "<a download=\"movies.csv\" href=\"data:text/csv;base64,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\" target=\"_blank\">Descargar archivo CSV</a>"
      ],
      "text/plain": [
       "<IPython.core.display.HTML object>"
      ]
     },
     "execution_count": 3,
     "metadata": {},
     "output_type": "execute_result"
    }
   ],
   "source": [
    "from IPython.display import HTML\n",
    "import pandas as pd\n",
    "import numpy as np\n",
    "import base64\n",
    "\n",
    "# function that takes in a dataframe and creates a text link to  \n",
    "# download it (will only work for files < 2MB or so)\n",
    "def create_download_link(df, title = \"Descargar archivo CSV\", filename = \"movies.csv\"):  \n",
    "    csv = df.to_csv()\n",
    "    b64 = base64.b64encode(csv.encode())\n",
    "    payload = b64.decode()\n",
    "    html = '<a download=\"{filename}\" href=\"data:text/csv;base64,{payload}\" target=\"_blank\">{title}</a>'\n",
    "    html = html.format(payload=payload,title=title,filename=filename)\n",
    "    return HTML(html)\n",
    "\n",
    "# create a random sample dataframe\n",
    "df = pd.DataFrame(np.random.randn(50, 4), columns=list('ABCD'))\n",
    "\n",
    "# create a link to download the dataframe\n",
    "create_download_link(df)\n"
   ]
  },
  {
   "cell_type": "code",
   "execution_count": null,
   "metadata": {},
   "outputs": [],
   "source": []
  }
 ],
 "metadata": {
  "kernelspec": {
   "display_name": "Python 3",
   "language": "python",
   "name": "python3"
  },
  "language_info": {
   "codemirror_mode": {
    "name": "ipython",
    "version": 3
   },
   "file_extension": ".py",
   "mimetype": "text/x-python",
   "name": "python",
   "nbconvert_exporter": "python",
   "pygments_lexer": "ipython3",
   "version": "3.6.7"
  },
  "widgets": {
   "application/vnd.jupyter.widget-state+json": {
    "state": {},
    "version_major": 2,
    "version_minor": 0
   }
  }
 },
 "nbformat": 4,
 "nbformat_minor": 4
}
