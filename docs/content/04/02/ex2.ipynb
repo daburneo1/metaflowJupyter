{
 "cells": [
  {
   "cell_type": "markdown",
   "metadata": {},
   "source": [
    "## Estadisticas\n",
    "En este ejemplo se cargara un archivo CSV de metadatos de los jugadores del mundial FIFA 2014 mediante Pandas y se procede a calcular algunas estadisticas especificas de jugadores de cada pais y en base a los goles marcados. "
   ]
  },
  {
   "cell_type": "markdown",
   "metadata": {},
   "source": [
    "   ### Ejecucion"
   ]
  },
  {
   "cell_type": "code",
   "execution_count": 1,
   "metadata": {},
   "outputs": [],
   "source": [
    "from metaflow import FlowSpec, step, IncludeFile"
   ]
  },
  {
   "cell_type": "markdown",
   "metadata": {},
   "source": [
    "Se procede a importar los modulos a utilizar desde <b>Metaflow</b>"
   ]
  },
  {
   "cell_type": "code",
   "execution_count": 2,
   "metadata": {},
   "outputs": [],
   "source": [
    "def script_path(filename):\n",
    "    import os\n",
    "\n",
    "    current_folder = globals()['_dh'][0]\n",
    "    filepath = os.path.join(current_folder,'mundial.csv')\n",
    "    return os.path.join(filepath, filename)"
   ]
  },
  {
   "cell_type": "markdown",
   "metadata": {},
   "source": [
    "Se implementa la funcion `os.path.join`, conveniente para obtener la ruta del directorio de una manera mas facil. Esto permite utilizar el tutorial desde cualquier directorio "
   ]
  },
  {
   "cell_type": "code",
   "execution_count": 3,
   "metadata": {},
   "outputs": [],
   "source": [
    "class PlayersStatFlow(FlowSpec):\n",
    "\n",
    "    player_data = IncludeFile(\"player_file\",\n",
    "                               help=\"El archivo de los jugadores del mundial\",\n",
    "                               default=script_path(\"mundial.csv\"))"
   ]
  },
  {
   "cell_type": "markdown",
   "metadata": {},
   "source": [
    "De manera similar a los <b>Parametros</b>, se puede definir un archivo de datos para incluirlo como entrada. Metaflow versiona el archivo y lo hara accesible a todos los pasos directamente a traves del objeto `self`"
   ]
  },
  {
   "cell_type": "code",
   "execution_count": 6,
   "metadata": {},
   "outputs": [],
   "source": [
    "    @step\n",
    "    def start(self):\n",
    "        \n",
    "        import pandas\n",
    "        from io import StringIO\n",
    "\n",
    "        # Cargar la data mediante pandas\n",
    "        self.dataframe = pandas.read_csv(StringIO(self.player_data), sep='|') # StringIo permite leer cadenas como archivos\n",
    "\n",
    "        # La columna 'genres' tiene una lista de generos para cada pelicula\n",
    "        self.Country = {countries for Country \\\n",
    "                        in self.dataframe['Country'] \\\n",
    "                        for countries in Country.split('|')} # Se crea un nuevo diccionario con los paises del csv evitando duplicados\n",
    "\n",
    "        self.Country = list(self.Country) #Convierte el diccionario en lista\n",
    "\n",
    "        # Se quiere calcular algunas estadiscitas para cada genero.\n",
    "        # El argumento 'foreach' permite hacer los calculos en paralelo\n",
    "        self.next(self.compute_statistics, foreach='Country')\n"
   ]
  },
  {
   "cell_type": "markdown",
   "metadata": {},
   "source": [
    "En el step <b>start</b> se comienza por analizar el CSV y a este extraer la informacion necesaria y almacenarla en un diccionario de Python. La lectura del CSV se realiza mediante la herramienta Pandas\n",
    "\n",
    "En el metodo `self.next` se ejecutan pasos paralelos a travez de ramas. La palabra clave <b>foreach</b>"
   ]
  },
  {
   "cell_type": "code",
   "execution_count": 7,
   "metadata": {},
   "outputs": [],
   "source": [
    "    @step\n",
    "    def compute_statistics(self):\n",
    "        \n",
    "        self.country = self.input\n",
    "\n",
    "        print(\"Computing statics for %s\" % self.country)\n",
    "\n",
    "        # Seleccionar todos los jugadores que pertenezcan al pais especificado.\n",
    "        # Crear un marco de datos con estos jugadores, y solo con las columnas necesarias\n",
    "        selector = self.dataframe['Country'].apply(lambda row: self.country in row)\n",
    "        self.dataframe = self.dataframe[selector]\n",
    "\n",
    "        self.dataframe = self.dataframe[['Last Name','First Name','Country','Goals']]\n",
    "\n",
    "        # Obtener estadisticas sobre el numero de goles marcados\n",
    "        points = [.25, .5, .75]\n",
    "        self.quartiles = self.dataframe['Goals'].quantile(points).values\n",
    "\n",
    "        # Unir a los resultados de otros paises\n",
    "        self.next(self.join)"
   ]
  },
  {
   "cell_type": "markdown",
   "metadata": {},
   "source": [
    "El step <b>compute_statics</b> se ejecuta de manera paralela en funcion de <b>foreach</b>. Obtiene los jugadores que sean del pais especificado.\n",
    "<br>\n",
    "Luego se obtienen las estadisticas de los goles marcados por cada jugador, que se encuentran en el dataframe\n",
    "\n",
    "En el metodo `self.next` se unen los resultados de los otros jugadores despues de que la ejecucion en paralelo del <b>compute_statics</b> termine\n"
   ]
  },
  {
   "cell_type": "code",
   "execution_count": 8,
   "metadata": {},
   "outputs": [],
   "source": [
    "    @step\n",
    "    def join(self, inputs):\n",
    "        self.country_stats = {inp.country.lower(): \\\n",
    "                                {'quartiles': inp.quartiles,\n",
    "                                 'dataframe': inp.dataframe} \\\n",
    "                                 for inp in inputs}\n",
    "        self.next(self.end)"
   ]
  },
  {
   "cell_type": "markdown",
   "metadata": {},
   "source": [
    "El step <b>join</b> une los resultados de las ramas paralelas combinandolos en un diccionario. Estos datos seran utilizados en el siguiente ejemplo como informacion base para generar una lista mejorada de peliculas recomendadas.\n",
    "\n",
    "Al ultimo apunta al paso final del programa"
   ]
  },
  {
   "cell_type": "code",
   "execution_count": 9,
   "metadata": {},
   "outputs": [],
   "source": [
    "    @step\n",
    "    def end(self):\n",
    "        \"\"\"\n",
    "        End the flow.\n",
    "\n",
    "        \"\"\"\n",
    "        pass"
   ]
  },
  {
   "cell_type": "markdown",
   "metadata": {},
   "source": [
    "En el step <b>end</b> en general no realiza ninguna accion, pues el presente codigo es previo a la ejecucion del siguiente ejemplo, dejando listos los datos a utilizarse"
   ]
  },
  {
   "cell_type": "markdown",
   "metadata": {},
   "source": [
    "`if __name__ == '__main__'`:<br>\n",
    "    `    PlayersStatsFlow()`"
   ]
  },
  {
   "cell_type": "markdown",
   "metadata": {},
   "source": [
    "Sentencia para empezar la ejecucion del programa"
   ]
  },
  {
   "cell_type": "markdown",
   "metadata": {},
   "source": [
    "### Si todos los pasos se ejecutaron correctamente, tendriamos una salida similar a la siguiente:"
   ]
  },
  {
   "cell_type": "markdown",
   "metadata": {},
   "source": [
    "<img src=\"jugadores2.png\">"
   ]
  },
  {
   "cell_type": "markdown",
   "metadata": {},
   "source": [
    "En la imagen anterior se puede visualizar la correcta ejecucion del programa, como tambien el uso de los cuatro nucleos del computador empleado, como evidencia del trabajo en paralelo de Metaflow"
   ]
  },
  {
   "cell_type": "markdown",
   "metadata": {},
   "source": [
    "\n",
    "\n",
    "[Descargar CSV](https://drive.google.com/uc?id=12cTxo-XHeipnLuryAzjtrYIuwzJaulbn&export=download&authuser=0)\n",
    "<br/>\n",
    "[Descargar archivo .py](https://drive.google.com/uc?id=18J6PKEZRh8L7jrZDFcah-yC5YmjxnC-f&export=download&authuser=0)\n",
    "\n",
    "\n",
    "\n",
    "\n"
   ]
  }
 ],
 "metadata": {
  "kernelspec": {
   "display_name": "Python 3",
   "language": "python",
   "name": "python3"
  },
  "language_info": {
   "codemirror_mode": {
    "name": "ipython",
    "version": 3
   },
   "file_extension": ".py",
   "mimetype": "text/x-python",
   "name": "python",
   "nbconvert_exporter": "python",
   "pygments_lexer": "ipython3",
   "version": "3.6.7"
  },
  "widgets": {
   "application/vnd.jupyter.widget-state+json": {
    "state": {},
    "version_major": 2,
    "version_minor": 0
   }
  }
 },
 "nbformat": 4,
 "nbformat_minor": 4
}
