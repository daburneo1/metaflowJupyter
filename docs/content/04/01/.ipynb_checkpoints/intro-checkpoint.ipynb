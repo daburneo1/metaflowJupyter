{
 "cells": [
  {
   "cell_type": "markdown",
   "metadata": {},
   "source": [
    "# Ejemplo 1\n",
    "En este ejemplo se visualiza el funcionamiento de Metaflow, mediante\n",
    "la carga de un CSV mediante IncludeFile, Parametros basicos de Metaflow y la ejecucion de ramas de trabajo en paralelo y unir resultados"
   ]
  },
  {
   "cell_type": "markdown",
   "metadata": {},
   "source": [
    "## Lista de reproduccion\n",
    "En este ejemplo se cargara un archivo CSV de metadatos de peliculas\n",
    "y crear una lista de reproduccion para su genero de peliculas favorito"
   ]
  },
  {
   "cell_type": "markdown",
   "metadata": {},
   "source": [
    "   ### Ejecucion"
   ]
  },
  {
   "cell_type": "code",
   "execution_count": null,
   "metadata": {},
   "outputs": [],
   "source": [
    "from metaflow import FlowSpec, step, IncludeFile, Parameter"
   ]
  },
  {
   "cell_type": "markdown",
   "metadata": {},
   "source": [
    "Se procede a importar los modulos a utilizar desde <b>Metaflow</b>"
   ]
  },
  {
   "cell_type": "code",
   "execution_count": 30,
   "metadata": {},
   "outputs": [],
   "source": [
    "def script_path(filename):\n",
    "    import os\n",
    "\n",
    "    current_folder = globals()['_dh'][0]\n",
    "    filepath = os.path.join(current_folder,'movies.csv')\n",
    "    return os.path.join(filepath, filename)"
   ]
  },
  {
   "cell_type": "markdown",
   "metadata": {},
   "source": [
    "Se implementa la funcion `os.path.join`, conveniente para obtener la ruta del directorio de una manera mas facil. Esto permite utilizar el tutorial desde cualquier directorio "
   ]
  },
  {
   "cell_type": "code",
   "execution_count": 31,
   "metadata": {},
   "outputs": [],
   "source": [
    "class PlayListFlow(FlowSpec):\n",
    "\n",
    "    movie_data = IncludeFile(\"movie_data\",\n",
    "                             help=\"The path to a movie metadata file.\",\n",
    "                             default=script_path('movies.csv'))\n"
   ]
  },
  {
   "cell_type": "markdown",
   "metadata": {},
   "source": [
    "De manera similar a los <b>Parametros</b>, se puede definir un archivo de datos para incluirlo como entrada. Metaflow versiona el archivo y lo hara accesible a todos los pasos directamente a traves del objeto `self`"
   ]
  },
  {
   "cell_type": "code",
   "execution_count": 29,
   "metadata": {},
   "outputs": [],
   "source": [
    "    genre = Parameter('genre', #Nombre del parametro\n",
    "                      help=\"Filter movies for a particular genre.\", #Descripcion\n",
    "                      default='action') #Valor por defecto\n",
    "\n",
    "    recommendations = Parameter('recommendations',\n",
    "                                help=\"The number of movies to recommend in \"\n",
    "                                \"the playlist.\",\n",
    "                                default=5)#El numero de peliculas que se mostraran al final"
   ]
  },
  {
   "cell_type": "markdown",
   "metadata": {},
   "source": [
    "Los parametros se definen asignandolos a una variable global. En estos se detalla el nombre del parametro, una descripcion bajo la sintaxis `help=\"...\"`, ademas del valor por defecto, el cual puede ser el tipo de variable(int, String) o un dato en especifico(action).\n",
    "\n",
    "Cada \"step\" esta antecedido por el decorador de Python `@`"
   ]
  },
  {
   "cell_type": "code",
   "execution_count": 32,
   "metadata": {},
   "outputs": [],
   "source": [
    "    @step\n",
    "    def start(self):\n",
    "\n",
    "        # Para este ejemplo solo se necesita de los titulos y el genero.\n",
    "        columns = ['movie_title', 'genres'] #Se crea la lista\n",
    "\n",
    "        # Crear un diccionario de las listas\n",
    "        self.dataframe = dict((column, list()) \\\n",
    "                              for column in columns)\n",
    "\n",
    "\n",
    "\n",
    "        # Analizar el CSV\n",
    "        lines = self.movie_data.split('\\n') #Condicion para crear lineas separadas por cada salto de linea del CSV\n",
    "        header = lines[0].split(',') #Separar por cada coma. informacion de los titulos\n",
    "        idx = {column: header.index(column) for column in columns} \n",
    "\n",
    "        # Llenar el dataframe con cada linea seleccionada anteriormente.\n",
    "        for line in lines[1:]: #No tomar en cuenta la primera fila\n",
    "            if not line: #Si es que esta vacio\n",
    "                continue\n",
    "\n",
    "            fields = line.rsplit(',',4)       \n",
    "            for column in columns:\n",
    "                self.dataframe[column].append(fields[idx[column]]) \n",
    "\n",
    "        # Ejecutar en paralelo los metodos bonus_movie y genre_movies\n",
    "        \n",
    "        self.next(self.bonus_movie, self.genre_movies)\n"
   ]
  },
  {
   "cell_type": "markdown",
   "metadata": {},
   "source": [
    "En step <b>start</b> se comienza por analizar el CSV y a este extraer la informacion necesaria y almacenarla en un diccionario de Python.\n",
    "\n",
    "En el metodo `self.next` se ejecutan pasos paralelos a travez de ramas. El beneficio de esto es mejorar el rendimiento de ejecucion. Metaflow puede ejecutar su codigo en paralelo aprovechando los distintos nucleos que posee el procesador del computador. Se permite cualquier cantidad de pasos paralelos."
   ]
  },
  {
   "cell_type": "code",
   "execution_count": 21,
   "metadata": {},
   "outputs": [],
   "source": [
    "    @step\n",
    "    def bonus_movie(self):\n",
    "        from random import choice #Funcion del modulo aleatorio de Python\n",
    "\n",
    "        # Seleccionar todas las peliculas que no pertenecen al genero proporcionado anteriormente (action)\n",
    "        movies = [(movie, genres) \\\n",
    "                  for movie, genres \\\n",
    "                  in zip(self.dataframe['movie_title'],\n",
    "                         self.dataframe['genres']) \\\n",
    "                  if self.genre.lower() not in genres.lower()]\n",
    "\n",
    "        # Escoger una aleatoriamente.\n",
    "        self.bonus = choice(movies)\n",
    "\n",
    "        self.next(self.join)#Apunta al siguiente paso"
   ]
  },
  {
   "cell_type": "markdown",
   "metadata": {},
   "source": [
    "El step <b>bonus_movie</b> selecciona aleatoriamente una pelicula que sea de un genero diferente para añadirla al resultado final.\n",
    "\n",
    "Luego de esto apunta al siguiente paso que es el step <b>join</b>"
   ]
  },
  {
   "cell_type": "code",
   "execution_count": 33,
   "metadata": {},
   "outputs": [],
   "source": [
    "    @step\n",
    "    def genre_movies(self):\n",
    "\n",
    "        from random import shuffle\n",
    "\n",
    "        # Seleccionar todas las peliculas que pertenezcan al genero proporcionado\n",
    "        self.movies = [movie \\\n",
    "                       for movie, genres \\\n",
    "                       in zip(self.dataframe['movie_title'],\n",
    "                              self.dataframe['genres']) \\\n",
    "                       if self.genre.lower() in genres.lower()] \n",
    "\n",
    "        # Aleatorizar las peliculas de la lista.\n",
    "        shuffle(self.movies)\n",
    "\n",
    "        self.next(self.join) #Apunta al siguiente paso\n"
   ]
  },
  {
   "cell_type": "markdown",
   "metadata": {},
   "source": [
    "El step <b>genre_movies</b> selecciona las peliculas del dataframe que coincidan con el genero proporcionado.\n",
    "\n",
    "Al final aleatoriza las peliculas de la lista para que de esta forma se encuentren listas, al igual que bonus para ser llamadas por el step <b>join</b>"
   ]
  },
  {
   "cell_type": "code",
   "execution_count": 34,
   "metadata": {},
   "outputs": [],
   "source": [
    "    @step\n",
    "    def join(self, inputs):\n",
    "\n",
    "        # Reasignar las listas de peliculas a sus respectivas variables\n",
    "        self.playlist = inputs.genre_movies.movies\n",
    "        self.bonus = inputs.bonus_movie.bonus\n",
    "\n",
    "        self.next(self.end)#Apunta al paso final\n"
   ]
  },
  {
   "cell_type": "markdown",
   "metadata": {},
   "source": [
    "En el step <b>join</b> se une la informacion obtenida en paralelo y se la reasigna a las variables correspondientes para ser invocadas en el paso final"
   ]
  },
  {
   "cell_type": "code",
   "execution_count": 35,
   "metadata": {},
   "outputs": [],
   "source": [
    "    @step\n",
    "    def end(self):\n",
    "        \n",
    "        print(\"Playlist for movies in genre '%s'\" % self.genre)\n",
    "        for pick, movie in enumerate(self.playlist, start=1):\n",
    "            print(\"Pick %d: '%s'\" % (pick, movie))\n",
    "            if pick >= self.recommendations:\n",
    "                break\n",
    "\n",
    "        print(\"Bonus Pick: '%s' from '%s'\" % (self.bonus[0], self.bonus[1]))\n"
   ]
  },
  {
   "cell_type": "markdown",
   "metadata": {},
   "source": [
    "Imprimir la lista de peliculas segun el numero requerido y el genero proporcionado. En el presente ejemplo se requieren 5 peliculas del genero accion"
   ]
  },
  {
   "cell_type": "markdown",
   "metadata": {},
   "source": [
    "`if __name__ == '__main__'`:<br>\n",
    "    `    PlayListFlow()`"
   ]
  },
  {
   "cell_type": "markdown",
   "metadata": {},
   "source": [
    "Sentencia para empezar la ejecucion del programa"
   ]
  },
  {
   "cell_type": "markdown",
   "metadata": {},
   "source": [
    "### Si todos los pasos se ejecutaron correctamente, tendriamos una salida similar a la siguiente:"
   ]
  },
  {
   "cell_type": "markdown",
   "metadata": {},
   "source": [
    "<img src=\"resultado1.png\">"
   ]
  },
  {
   "cell_type": "markdown",
   "metadata": {},
   "source": [
    "Para obtener el archivo .py, asi como el csv implementado en este ejemplo, se puede dirigir al repositorio de este ejemplo en [GitHub](https://github.com/Netflix/metaflow/tree/master/metaflow/tutorials/01-playlist)"
   ]
  },
  {
   "cell_type": "code",
   "execution_count": null,
   "metadata": {},
   "outputs": [],
   "source": []
  }
 ],
 "metadata": {
  "kernelspec": {
   "display_name": "Python 3",
   "language": "python",
   "name": "python3"
  },
  "language_info": {
   "codemirror_mode": {
    "name": "ipython",
    "version": 3
   },
   "file_extension": ".py",
   "mimetype": "text/x-python",
   "name": "python",
   "nbconvert_exporter": "python",
   "pygments_lexer": "ipython3",
   "version": "3.6.7"
  },
  "widgets": {
   "application/vnd.jupyter.widget-state+json": {
    "state": {},
    "version_major": 2,
    "version_minor": 0
   }
  }
 },
 "nbformat": 4,
 "nbformat_minor": 4
}
